{
  "nbformat": 4,
  "nbformat_minor": 0,
  "metadata": {
    "colab": {
      "provenance": [],
      "authorship_tag": "ABX9TyMVtWjMVXVeBFGR8Gear7UU",
      "include_colab_link": true
    },
    "kernelspec": {
      "name": "python3",
      "display_name": "Python 3"
    },
    "language_info": {
      "name": "python"
    }
  },
  "cells": [
    {
      "cell_type": "markdown",
      "metadata": {
        "id": "view-in-github",
        "colab_type": "text"
      },
      "source": [
        "<a href=\"https://colab.research.google.com/github/Vaibhav074N/PPT-Assigement-4/blob/main/PPT_Assigement_4.ipynb\" target=\"_parent\"><img src=\"https://colab.research.google.com/assets/colab-badge.svg\" alt=\"Open In Colab\"/></a>"
      ]
    },
    {
      "cell_type": "markdown",
      "source": [
        "<aside>\n",
        "💡 Given three integer arrays arr1, arr2 and arr3 **sorted** in **strictly increasing** order, return a sorted array of **only** the integers that appeared in **all** three arrays.\n",
        "\n",
        "**Example 1:**\n",
        "\n",
        "Input: arr1 = [1,2,3,4,5], arr2 = [1,2,5,7,9], arr3 = [1,3,4,5,8]\n",
        "\n",
        "Output: [1,5]\n",
        "\n",
        "**Explanation:** Only 1 and 5 appeared in the three arrays.\n",
        "\n",
        "</aside>"
      ],
      "metadata": {
        "id": "ZgFYrCqRZ9uX"
      }
    },
    {
      "cell_type": "code",
      "execution_count": 3,
      "metadata": {
        "id": "LymtY5WGZ523",
        "colab": {
          "base_uri": "https://localhost:8080/"
        },
        "outputId": "89573c14-3bf9-44f2-a4e6-d15d545b8816"
      },
      "outputs": [
        {
          "output_type": "stream",
          "name": "stdout",
          "text": [
            "[1, 5]\n"
          ]
        }
      ],
      "source": [
        "def all(a1,a2,a3):\n",
        "  s1=set(a1)\n",
        "  s2=set(a2)\n",
        "  s3=set(a3)\n",
        "\n",
        "  return list(s1.intersection(s2,s3))\n",
        "\n",
        "arr1 = [1,2,3,4,5]\n",
        "arr2 = [1,2,5,7,9]\n",
        "arr3 = [1,3,4,5,8]\n",
        "\n",
        "print(all(arr1,arr2,arr3))"
      ]
    },
    {
      "cell_type": "markdown",
      "source": [
        "Given two **0-indexed** integer arrays nums1 and nums2, return *a list* answer *of size* 2 *where:*\n",
        "\n",
        "- answer[0] *is a list of all **distinct** integers in* nums1 *which are **not** present in* nums2*.*\n",
        "- answer[1] *is a list of all **distinct** integers in* nums2 *which are **not** present in* nums1.\n",
        "\n",
        "**Note** that the integers in the lists may be returned in **any** order.\n",
        "\n",
        "**Example 1:**\n",
        "\n",
        "**Input:** nums1 = [1,2,3], nums2 = [2,4,6]\n",
        "\n",
        "**Output:** [[1,3],[4,6]]\n",
        "\n",
        "**Explanation:**\n",
        "\n",
        "For nums1, nums1[1] = 2 is present at index 0 of nums2, whereas nums1[0] = 1 and nums1[2] = 3 are not present in nums2. Therefore, answer[0] = [1,3].\n",
        "\n",
        "For nums2, nums2[0] = 2 is present at index 1 of nums1, whereas nums2[1] = 4 and nums2[2] = 6 are not present in nums2. Therefore, answer[1] = [4,6]."
      ],
      "metadata": {
        "id": "HQeof6TnZ-Nl"
      }
    },
    {
      "cell_type": "code",
      "source": [
        "def f(n1,n2):\n",
        "    ans=[[],[]]\n",
        "    n=len(n1)\n",
        "    m=len(n2)\n",
        "    for i in range(n):\n",
        "        if n1[i] not in n2:\n",
        "            ans[0].append(n1[i])\n",
        "            i += 1\n",
        "    for j in range(m):\n",
        "        if n2[j] not in n1:\n",
        "            ans[1].append(n2[j])\n",
        "            j += 1\n",
        "\n",
        "    return ans\n",
        "\n",
        "n1=[1,2,3]\n",
        "n2=[2,4,6]\n",
        "print(f(n1,n2))"
      ],
      "metadata": {
        "id": "Xo078Ct4Z-wQ",
        "colab": {
          "base_uri": "https://localhost:8080/"
        },
        "outputId": "3472794a-82e3-4277-eee3-b7ccef31bf08"
      },
      "execution_count": 4,
      "outputs": [
        {
          "output_type": "stream",
          "name": "stdout",
          "text": [
            "[[1, 3], [4, 6]]\n"
          ]
        }
      ]
    },
    {
      "cell_type": "markdown",
      "source": [
        "<aside>\n",
        "💡 Given a 2D integer array matrix, return *the **transpose** of* matrix.\n",
        "\n",
        "The **transpose** of a matrix is the matrix flipped over its main diagonal, switching the matrix's row and column indices.\n",
        "\n",
        "**Example 1:**\n",
        "\n",
        "Input: matrix = [[1,2,3],[4,5,6],[7,8,9]]\n",
        "\n",
        "Output: [[1,4,7],[2,5,8],[3,6,9]]\n",
        "\n",
        "</aside>"
      ],
      "metadata": {
        "id": "njI7eh6FZ_QK"
      }
    },
    {
      "cell_type": "code",
      "source": [
        "def matrix(arr):\n",
        "  n=len(arr)\n",
        "  for i in range(n):\n",
        "    for j in range(i+1,n):\n",
        "      arr[i][j],arr[j][i] = arr[j][i],arr[i][j]\n",
        "      j += 1\n",
        "    i += 1\n",
        "  return arr\n",
        "\n",
        "arr=[[1,2,3],[4,5,6],[7,8,9]]\n",
        "print(matrix(arr))"
      ],
      "metadata": {
        "id": "sGJ0yjmIZ_os",
        "colab": {
          "base_uri": "https://localhost:8080/"
        },
        "outputId": "b934ccac-b68c-4f7e-895c-cdf3e6250e4a"
      },
      "execution_count": 6,
      "outputs": [
        {
          "output_type": "stream",
          "name": "stdout",
          "text": [
            "[[1, 4, 7], [2, 5, 8], [3, 6, 9]]\n"
          ]
        }
      ]
    },
    {
      "cell_type": "markdown",
      "source": [
        "<aside>\n",
        "💡 Given an integer array nums of 2n integers, group these integers into n pairs (a1, b1), (a2, b2), ..., (an, bn) such that the sum of min(ai, bi) for all i is **maximized**. Return *the maximized sum*.\n",
        "\n",
        "**Example 1:**\n",
        "\n",
        "Input: nums = [1,4,3,2]\n",
        "\n",
        "Output: 4\n",
        "\n",
        "**Explanation:** All possible pairings (ignoring the ordering of elements) are:\n",
        "\n",
        "1. (1, 4), (2, 3) -> min(1, 4) + min(2, 3) = 1 + 2 = 3\n",
        "\n",
        "2. (1, 3), (2, 4) -> min(1, 3) + min(2, 4) = 1 + 2 = 3\n",
        "\n",
        "3. (1, 2), (3, 4) -> min(1, 2) + min(3, 4) = 1 + 3 = 4\n",
        "\n",
        "So the maximum possible sum is 4.\n",
        "\n",
        "</aside>"
      ],
      "metadata": {
        "id": "LmuS1bj_aAH3"
      }
    },
    {
      "cell_type": "code",
      "source": [
        "def arrayPairSum(nums):\n",
        "    nums.sort()\n",
        "    max_sum = 0\n",
        "    for i in range(0, len(nums), 2):\n",
        "        max_sum += nums[i]\n",
        "    return max_sum\n",
        "\n",
        "nums = [1,4,3,2]\n",
        "print(arrayPairSum(nums))"
      ],
      "metadata": {
        "id": "kd3-oUwLaAfa",
        "colab": {
          "base_uri": "https://localhost:8080/"
        },
        "outputId": "2be5f4f7-a97b-4ad5-cc1b-4c006c0939f3"
      },
      "execution_count": 7,
      "outputs": [
        {
          "output_type": "stream",
          "name": "stdout",
          "text": [
            "4\n"
          ]
        }
      ]
    },
    {
      "cell_type": "markdown",
      "source": [
        "Q5.<aside>\n",
        "💡 You have n coins and you want to build a staircase with these coins. The staircase consists of k rows where the ith row has exactly i coins. The last row of the staircase **may be** incomplete.\n",
        "\n",
        "Given the integer n, return *the number of **complete rows** of the staircase you will build*.\n",
        "\n",
        "</aside>"
      ],
      "metadata": {
        "id": "IKQXG3XU4QWh"
      }
    },
    {
      "cell_type": "code",
      "source": [
        "def coins(n):\n",
        "    rows = 0\n",
        "    coins_needed = 1\n",
        "\n",
        "    while n >= coins_needed:\n",
        "        n -= coins_needed\n",
        "        rows += 1\n",
        "        coins_needed += 1\n",
        "\n",
        "    return rows\n",
        "\n",
        "print(coins(n=5))"
      ],
      "metadata": {
        "colab": {
          "base_uri": "https://localhost:8080/"
        },
        "id": "5lAcYawd4Vcq",
        "outputId": "89d22d47-e2a9-4d80-b313-3f9cbba02515"
      },
      "execution_count": 8,
      "outputs": [
        {
          "output_type": "stream",
          "name": "stdout",
          "text": [
            "2\n"
          ]
        }
      ]
    },
    {
      "cell_type": "markdown",
      "source": [
        "<aside>\n",
        "💡 Given an integer array nums sorted in **non-decreasing** order, return *an array of **the squares of each number** sorted in non-decreasing order*.\n",
        "\n",
        "**Example 1:**\n",
        "\n",
        "Input: nums = [-4,-1,0,3,10]\n",
        "\n",
        "Output: [0,1,9,16,100]\n",
        "\n",
        "**Explanation:** After squaring, the array becomes [16,1,0,9,100].\n",
        "After sorting, it becomes [0,1,9,16,100]\n",
        "\n",
        "</aside>"
      ],
      "metadata": {
        "id": "9Tws7_uLaBsC"
      }
    },
    {
      "cell_type": "code",
      "source": [
        "def arr(nums):\n",
        "\n",
        "  sq_nums=list(map(lambda x:x**2,nums))\n",
        "  return sorted(sq_nums)\n",
        "\n",
        "nums = [-4,-1,0,3,10]\n",
        "print(arr(nums))"
      ],
      "metadata": {
        "id": "txzTEHQQaCA7",
        "colab": {
          "base_uri": "https://localhost:8080/"
        },
        "outputId": "a9f50dd1-f38f-4920-ec98-4b6b0218f211"
      },
      "execution_count": 10,
      "outputs": [
        {
          "output_type": "stream",
          "name": "stdout",
          "text": [
            "[0, 1, 9, 16, 100]\n"
          ]
        }
      ]
    },
    {
      "cell_type": "markdown",
      "source": [
        "<aside>\n",
        "💡 You are given an m x n matrix M initialized with all 0's and an array of operations ops, where ops[i] = [ai, bi] means M[x][y] should be incremented by one for all 0 <= x < ai and 0 <= y < bi.\n",
        "\n",
        "Count and return *the number of maximum integers in the matrix after performing all the operations*\n",
        "\n",
        "**Example 1:**\n",
        "\n",
        "![q4.jpg](https://s3-us-west-2.amazonaws.com/secure.notion-static.com/4d0890d0-7bc7-4f59-be8e-352d9f3c1c52/q4.jpg)\n",
        "\n",
        "**Input:** m = 3, n = 3, ops = [[2,2],[3,3]]\n",
        "\n",
        "**Output:** 4\n",
        "\n",
        "**Explanation:** The maximum integer in M is 2, and there are four of it in M. So return 4.\n",
        "\n",
        "</aside>"
      ],
      "metadata": {
        "id": "eMukicGgaCb8"
      }
    },
    {
      "cell_type": "code",
      "source": [
        "def maxCount(m,n,ops):\n",
        "    min_row = m\n",
        "    min_col = n\n",
        "\n",
        "    for i in ops:\n",
        "        min_row = min(min_row, i[0])\n",
        "        min_col = min(min_col, i[1])\n",
        "\n",
        "    return min_row * min_col\n",
        "m = 3\n",
        "n = 3\n",
        "ops = [[2, 2], [3, 3]]\n",
        "print(maxCount(m, n, ops))"
      ],
      "metadata": {
        "id": "lEaumtQMaDAI",
        "colab": {
          "base_uri": "https://localhost:8080/"
        },
        "outputId": "7d44d1f2-4281-4c98-c847-ef110122335e"
      },
      "execution_count": 12,
      "outputs": [
        {
          "output_type": "stream",
          "name": "stdout",
          "text": [
            "4\n"
          ]
        }
      ]
    },
    {
      "cell_type": "markdown",
      "source": [
        "Given the array nums consisting of 2n elements in the form [x1,x2,...,xn,y1,y2,...,yn].\n",
        "\n",
        "*Return the array in the form* [x1,y1,x2,y2,...,xn,yn].\n",
        "\n",
        "**Example 1:**\n",
        "\n",
        "**Input:** nums = [2,5,1,3,4,7], n = 3\n",
        "\n",
        "**Output:** [2,3,5,4,1,7]\n",
        "\n",
        "**Explanation:** Since x1=2, x2=5, x3=1, y1=3, y2=4, y3=7 then the answer is [2,3,5,4,1,7]."
      ],
      "metadata": {
        "id": "00xvXHYTa9UX"
      }
    },
    {
      "cell_type": "code",
      "source": [
        "def rearrangeArray(nums, n):\n",
        "    result = []\n",
        "    for i in range(n):\n",
        "        result.append(nums[i])\n",
        "        result.append(nums[i+n])\n",
        "    return result\n",
        "\n",
        "nums = [2, 5, 1, 3, 4, 7]\n",
        "n = 3\n",
        "output = rearrangeArray(nums, n)\n",
        "print(output)"
      ],
      "metadata": {
        "id": "3Js4b8o_a88f",
        "colab": {
          "base_uri": "https://localhost:8080/"
        },
        "outputId": "9e7e8848-3184-493a-9886-51d102122c4f"
      },
      "execution_count": 13,
      "outputs": [
        {
          "output_type": "stream",
          "name": "stdout",
          "text": [
            "[2, 3, 5, 4, 1, 7]\n"
          ]
        }
      ]
    },
    {
      "cell_type": "code",
      "source": [],
      "metadata": {
        "id": "E0KV7xeKH6q5"
      },
      "execution_count": null,
      "outputs": []
    }
  ]
}